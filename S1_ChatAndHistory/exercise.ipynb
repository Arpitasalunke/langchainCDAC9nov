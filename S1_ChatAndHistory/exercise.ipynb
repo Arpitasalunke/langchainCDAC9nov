{
 "cells": [
  {
   "cell_type": "code",
   "execution_count": null,
   "metadata": {},
   "outputs": [],
   "source": [
    "import random as r\n",
    "\n",
    "def actor_picker(l1):\n",
    "    actor=r.choice(l1)\n",
    "    return actor\n",
    "\n"
   ]
  },
  {
   "cell_type": "code",
   "execution_count": null,
   "metadata": {},
   "outputs": [],
   "source": [
    "\n",
    "def Theme_picker(l2):\n",
    "    Theme=r.choice(l2)\n",
    "    return Theme\n",
    "\n",
    "\n",
    "\n"
   ]
  },
  {
   "cell_type": "code",
   "execution_count": 26,
   "metadata": {},
   "outputs": [],
   "source": [
    "l1=[\"New York\",\"Bali\",\"Us\",\"Dubai\",\"karnataka\"]\n",
    "def location_picker(l3):\n",
    "    location=r.choice(l3)\n",
    "    return location\n",
    "\n",
    "\n",
    "\n"
   ]
  },
  {
   "cell_type": "code",
   "execution_count": 27,
   "metadata": {},
   "outputs": [
    {
     "name": "stdout",
     "output_type": "stream",
     "text": [
      "content=\"Once upon a time, in a dense and lush forest, there lived a majestic tiger named Raja. He was known for his striking orange and black stripes, powerful build, and intense gaze. Raja was the king of his domain, ruling over the other animals with strength and dignity.\\n\\nRaja had a proud and solitary nature, often spending his days patrolling his territory and ensuring the safety of the creatures under his watch. He was a fierce hunter, but only took what he needed to survive, respecting the balance of nature. The other animals both feared and respected him, knowing that he was a force to be reckoned with.\\n\\nOne day, Raja's peaceful reign was disrupted by the arrival of a group of humans who ventured into the forest. They were loud and destructive, cutting down trees and disturbing the peaceful habitat. Raja watched them with suspicion, knowing that their presence could threaten the delicate balance of his kingdom.\\n\\nAmong the humans was a young girl named Maya. She was adventurous and curious, often wandering away from the campsite to explore the forest. Maya had a deep love for nature and a special fascination for tigers. She had heard stories of the mighty Raja and dreamed of catching a glimpse of him.\\n\\nAs fate would have it, Maya and Raja's paths crossed one fateful day. Maya, while exploring a secluded part of the forest, stumbled upon Raja's resting place. She froze in her tracks, her eyes widening at the sight of the magnificent tiger lounging on a rocky outcrop. Raja, sensing her presence, slowly lifted his head, his golden eyes locking with hers.\\n\\nMaya's heart raced as she found herself unable to move or look away. She felt a deep connection to Raja, as if they shared a secret understanding. Slowly, Raja rose to his feet, his powerful muscles rippling beneath his stripes. Maya held her breath, unsure of what would happen next.\\n\\nTo her surprise, Raja didn't attack. Instead, he took a step forward, narrowing the distance between them. Maya could see the wisdom and curiosity in his eyes. It was as if he sensed her respect and admiration for him. With a gentle nudge, Raja brushed past her, his tail flicking against her leg as he walked by.\\n\\nFrom that day on, Maya and Raja formed an unlikely bond. Maya would often return to the forest, seeking out Raja's company. She would sit quietly, observing him from a distance as he went about his daily routine. Raja, though still wild and untamed, seemed to tolerate her presence, even coming closer at times to inspect her with curious eyes.\\n\\nAs time passed, Maya learned about Raja's habits and behaviors. She discovered his favorite resting spots, the paths he often took, and the times when he would be most active. Maya shared her knowledge with the other villagers, teaching them about tiger behavior and the importance of respecting their space.\\n\\nThe villagers began to see tigers in a new light. They understood that tigers were an integral part of the ecosystem, keeping the population of other animals in check and maintaining the balance of nature. They realized that Raja and his kind were not creatures to be feared, but rather revered and protected.\\n\\nAs word spread, the villagers took steps to preserve the forest and the tigers' habitat. They stopped cutting down trees and implemented measures to reduce their impact on the environment. The forest began to thrive once again, and Raja's kingdom flourished.\\n\\nMaya's bond with Raja remained strong, and their encounters became a source of wonder and inspiration for the villagers. They saw the deep connection between the girl and the tiger as a symbol of harmony and coexistence. Maya's love for Raja and her passion for conservation touched the hearts of many.\\n\\nYears passed, and Maya grew into a wise and respected woman in the village. Raja, too, aged gracefully, his reign as the king of the forest unwavering. Their story became a legend, passed down from generation to generation, reminding people of the beauty of nature, the power of connection, and the importance of protecting the wild creatures that shared their world.\\n\\nAnd so, the tale of Maya and Raja, the girl and the tiger who formed an unlikely bond, lived on forever in the hearts and minds of those who cherished the wild and wonderful world they inhabited together.\" additional_kwargs={'documents': None, 'citations': None, 'search_results': None, 'search_queries': None, 'is_search_required': None, 'generation_id': '40ac4a81-c2a0-4c19-abcf-94d8d3716a59', 'token_count': {'input_tokens': 209.0, 'output_tokens': 876.0}} response_metadata={'documents': None, 'citations': None, 'search_results': None, 'search_queries': None, 'is_search_required': None, 'generation_id': '40ac4a81-c2a0-4c19-abcf-94d8d3716a59', 'token_count': {'input_tokens': 209.0, 'output_tokens': 876.0}} id='run-3c43811f-9332-4f3a-a779-82c559bd726d-0' usage_metadata={'input_tokens': 209, 'output_tokens': 876, 'total_tokens': 1085}\n",
      "content=\"Here's a story about a majestic tiger:\\n\\n---\\n\\nThe Tiger of the Golden Plains\\n\\nIn the heart of the Indian subcontinent, where the golden plains stretched as far as the eye could see, there lived a majestic tiger named Raja. Raja was the king of the land, feared and respected by all who lived within his domain. His fur was as golden as the sun, and his eyes shone like bright stars in the night.\\n\\nRaja had grown up in the wild, learning the ways of the forest from his mother, a wise and fierce tigress named Kali. She had taught him everything he knew, from hunting and fighting to adapting to the harsh conditions of the wilderness. As he grew older, Raja became stronger and more confident, and his mother knew that it was time for him to strike out on his own.\\n\\nOne day, Raja set out to explore the world beyond his forest home. He roamed the golden plains, his paws padding softly on the earth as he sniffed out the source of a strange and pungent smell. The scent led him to a small village nestled between two great rivers, where the people lived in harmony with the land.\\n\\nRaja was drawn to the village, and as he approached, he noticed that the villagers were huddled together, their faces filled with worry and fear. A group of poachers had come to the village, seeking to capture and sell the majestic tigers that roamed the plains. The villagers, who relied on the tigers for their livelihood, were desperate to protect their friends and family.\\n\\nRaja knew that he had to act. He crept closer, his eyes fixed on the poachers, and let out a mighty roar. The sound echoed across the plains, sending a chill through the spines of the poachers. They turned to face him, but Raja was not intimidated.\\n\\nWith a swift and deadly precision, Raja attacked the poachers, using his sharp claws and powerful jaws to defend the village and its inhabitants. The villagers, inspired by Raja's bravery, joined the fight, and together they managed to chase the poachers away.\\n\\nFrom that day on, Raja was hailed as a hero by the villagers. They named him the Tiger of the Golden Plains, and he became a symbol of their connection to the land and their determination to protect it. Raja continued to roam the plains, his legend growing with each passing year, and the villagers would often look up to the stars at night, remembering the magnificent tiger who had saved their home.\\n\\n---\\n\\nI hope you enjoyed the story! Let me know if you have any feedback or if you'd like me to create another story.\" additional_kwargs={} response_metadata={'token_usage': {'completion_tokens': 547, 'prompt_tokens': 28, 'total_tokens': 575, 'completion_time': 0.455833333, 'prompt_time': 0.003663076, 'queue_time': 0.011004874000000001, 'total_time': 0.459496409}, 'model_name': 'llama3-8b-8192', 'system_fingerprint': 'fp_a97cfe35ae', 'finish_reason': 'stop', 'logprobs': None} id='run-5407ad82-3ffe-4db0-ac55-797488cb87b8-0' usage_metadata={'input_tokens': 28, 'output_tokens': 547, 'total_tokens': 575}\n"
     ]
    }
   ],
   "source": [
    "import os\n",
    "import configparser\n",
    "\n",
    "from langchain_groq import ChatGroq\n",
    "from langchain_cohere import ChatCohere\n",
    "\n",
    "from langchain_core.messages import HumanMessage, SystemMessage\n",
    "\n",
    "config = configparser.ConfigParser()\n",
    "config.read('/workspaces/langchainCDAC9nov/config.ini')\n",
    "groq = config['groq']\n",
    "cohere = config['cohere']\n",
    "\n",
    "os.environ['GROQ_API_KEY'] = groq.get('GROQ_API_KEY')\n",
    "os.environ['COHERE_API_KEY'] = cohere.get('COHERE_API_KEY')\n",
    "\n",
    "messages = [\n",
    "    SystemMessage(content='You are a Story Creator'),\n",
    "    HumanMessage(content='please create a story related to tiger?')\n",
    "]\n",
    "\n",
    "## code for cohere.\n",
    "model = ChatCohere(model=\"command-r-plus\")\n",
    "print(model.invoke(messages))\n",
    "\n",
    "## Code for Groq\n",
    "model = ChatGroq(model=\"llama3-8b-8192\")\n",
    "print(model.invoke(messages))"
   ]
  },
  {
   "cell_type": "code",
   "execution_count": 52,
   "metadata": {},
   "outputs": [
    {
     "data": {
      "text/plain": [
       "'Here\\'s a brief story:\\n\\nTitle: The High-Stakes Heist\\n\\nAkshay Kumar plays the role of Rohan, a former thief turned security expert, who is lured back into the world of crime by a mysterious offer from a wealthy Dubai-based businessman. The businessman, known only as \"The Sultan,\" promises Rohan a share of his vast fortune if he can pull off a daring heist in the luxurious city of Dubai.\\n\\nRohan agrees, and with the help of his old gang, they plan to steal a priceless diamond necklace from a high-end jewelry store in the heart of Dubai\\'s financial district. As they execute their plan, they are pursued by a determined detective, who is determined to catch them in the act.\\n\\nAs the stakes get higher, Rohan finds himself in a game of cat and mouse, where he must use all his wits and skills to outsmart his pursuers and get away with the loot. But as the night wears on, he begins to realize that The Sultan may not be what he seems, and that the true prize may be more than just the diamond necklace...\\n\\nThis story combines Akshay Kumar\\'s action hero persona with the high-stakes world of heists, set against the glamorous backdrop of Dubai. The dramatic plot twists and turns will keep audiences on the edge of their seats as Rohan navigates the treacherous world of crime and deception.'"
      ]
     },
     "execution_count": 52,
     "metadata": {},
     "output_type": "execute_result"
    }
   ],
   "source": [
    "#The classes used for setting up the prompt\n",
    "\n",
    "from langchain_core.output_parsers import StrOutputParser\n",
    "from langchain_core.prompts import ChatPromptTemplate \n",
    "\n",
    "parser = StrOutputParser()\n",
    "l1=[\"akshay Kumar\",\"Priyaka chopara\",\"Dipika Padukone\",\"Allu Arjun\",\"Sai pallavi\",\"Mahesh babu\"]\n",
    "l2=[\"Dramatic\",\"Horror\",\"Romantic\",\"silent\",\"Comedy\"]\n",
    "l3=[\"New York\",\"Bali\",\"Us\",\"Dubai\",\"karnataka\"]\n",
    "actor= actor_picker(l1) # Based on user input pick a puzzle.\n",
    "theme=Theme_picker(l2)\n",
    "location=location_picker(l3)\n",
    "writer=[actor,theme,location]\n",
    "# templatized system prompt\n",
    "system_template = \"create a story by using following actor, theme and location. Please provide a {responseType} response.\" \n",
    "\n",
    "# Create prompt template instance.\n",
    "prompt_template = ChatPromptTemplate.from_messages(\n",
    "    [\n",
    "        (\"system\", system_template),\n",
    "        (\"user\", writer)\n",
    "    ]\n",
    ")\n",
    "\n",
    "\n",
    "# prompt Template also implements runnable and can be easily chained.\n",
    "model = ChatGroq(model=\"llama3-8b-8192\")\n",
    "chain = prompt_template | model | parser\n",
    "chain.invoke({\"responseType\":\"brief\"})\n",
    "\n"
   ]
  },
  {
   "cell_type": "code",
   "execution_count": null,
   "metadata": {},
   "outputs": [],
   "source": [
    "from langchain_core.runnables import RunnableSequence\n",
    "chain = RunnableSequence(model, parser)\n",
    "chain.invoke([HumanMessage(content=\"hi i am bob\")])"
   ]
  },
  {
   "cell_type": "code",
   "execution_count": 56,
   "metadata": {},
   "outputs": [
    {
     "name": "stdout",
     "output_type": "stream",
     "text": [
      "Messages retrieved from DB\n",
      "Hello! Nice to meet you! As a writer, you must be excited to share your stories and ideas with the world. What kind of writing do you do? Fiction, non-fiction, poetry, or something else? I'm all ears!\n",
      "Messages retrieved from DB\n",
      "[HumanMessage(content='Hi! I am writer', additional_kwargs={}, response_metadata={}), SystemMessage(content=\"Hello! Nice to meet you! As a writer, you must be excited to share your stories and ideas with the world. What kind of writing do you do? Fiction, non-fiction, poetry, or something else? I'm all ears!\", additional_kwargs={}, response_metadata={}), HumanMessage(content='Lets see if you know my previous story?', additional_kwargs={}, response_metadata={})]\n",
      "I apologize, but I'm a large language model, I don't have the ability to retain information or recall previous conversations. Each time you interact with me, it's a new conversation and I don't have any prior knowledge or context. If you'd like to share your story with me, I'd be happy to hear it and respond accordingly!\n"
     ]
    }
   ],
   "source": [
    "# import the chat history classes\n",
    "from langchain_core.chat_history import (\n",
    "    BaseChatMessageHistory,\n",
    "    InMemoryChatMessageHistory,\n",
    ")\n",
    "import asyncio # library for writing code that interacts with DB, network calls etc. \n",
    "\n",
    "#Create a store in memory\n",
    "store = InMemoryChatMessageHistory()\n",
    "\n",
    "\n",
    "# Lets define a function that gets messages from store\n",
    "async def getMessage():\n",
    "    await asyncio.sleep(2) # this will mimic a read from DB\n",
    "    print(\"Messages retrieved from DB\")\n",
    "    return await store.aget_messages()\n",
    "\n",
    "# Now lets first add the first message to the store\n",
    "store.add_message(HumanMessage('Hi! I am writer'))\n",
    "\n",
    "messages = await(getMessage())\n",
    "\n",
    "\n",
    "response = model.invoke(messages) # asyncio has runners for coroutines, context managers etc. \n",
    "print(response.content) # note that our first message is safely in the store\n",
    "\n",
    "# lets add the message returned by the model to the store\n",
    "\n",
    "store.add_message(SystemMessage(response.content))\n",
    "\n",
    "\n",
    "store.add_message(HumanMessage('Lets see if you know my previous story?'))\n",
    "\n",
    "messages = await(getMessage())\n",
    "\n",
    "print(messages) # check all the message are in store.\n",
    "\n",
    "response = model.invoke(messages)\n",
    "\n",
    "print(response.content) # Notice that the reponse now takes into account earlier interactions also."
   ]
  },
  {
   "cell_type": "code",
   "execution_count": null,
   "metadata": {},
   "outputs": [],
   "source": []
  }
 ],
 "metadata": {
  "kernelspec": {
   "display_name": "Python 3",
   "language": "python",
   "name": "python3"
  },
  "language_info": {
   "codemirror_mode": {
    "name": "ipython",
    "version": 3
   },
   "file_extension": ".py",
   "mimetype": "text/x-python",
   "name": "python",
   "nbconvert_exporter": "python",
   "pygments_lexer": "ipython3",
   "version": "3.12.1"
  }
 },
 "nbformat": 4,
 "nbformat_minor": 2
}
