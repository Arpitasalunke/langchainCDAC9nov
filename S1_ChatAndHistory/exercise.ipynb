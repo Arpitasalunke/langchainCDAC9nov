{
 "cells": [
  {
   "cell_type": "code",
   "execution_count": 1,
   "metadata": {},
   "outputs": [],
   "source": [
    "import random as r\n",
    "\n",
    "def actor_picker(l1):\n",
    "    actor=r.choice(l1)\n",
    "    return actor\n",
    "\n"
   ]
  },
  {
   "cell_type": "code",
   "execution_count": 2,
   "metadata": {},
   "outputs": [],
   "source": [
    "\n",
    "def Theme_picker(l2):\n",
    "    Theme=r.choice(l2)\n",
    "    return Theme\n",
    "\n",
    "\n",
    "\n"
   ]
  },
  {
   "cell_type": "code",
   "execution_count": 3,
   "metadata": {},
   "outputs": [],
   "source": [
    "l1=[\"New York\",\"Bali\",\"Us\",\"Dubai\",\"karnataka\"]\n",
    "def location_picker(l3):\n",
    "    location=r.choice(l3)\n",
    "    return location\n",
    "\n",
    "\n",
    "\n"
   ]
  },
  {
   "cell_type": "code",
   "execution_count": null,
   "metadata": {},
   "outputs": [],
   "source": [
    "import os\n",
    "import configparser\n",
    "\n",
    "from langchain_groq import ChatGroq\n",
    "from langchain_cohere import ChatCohere\n",
    "\n",
    "from langchain_core.messages import HumanMessage, SystemMessage\n",
    "\n",
    "config = configparser.ConfigParser()\n",
    "config.read('/workspaces/langchainCDAC9nov/config.ini')\n",
    "groq = config['groq']\n",
    "cohere = config['cohere']\n",
    "\n",
    "os.environ['GROQ_API_KEY'] = groq.get('GROQ_API_KEY')\n",
    "os.environ['COHERE_API_KEY'] = cohere.get('COHERE_API_KEY')\n",
    "\n",
    "messages = [\n",
    "    SystemMessage(content='You are a Story Creator'),\n",
    "    HumanMessage(content='please create a story related to tiger?')\n",
    "]\n",
    "\n",
    "## code for cohere.\n",
    "model = ChatCohere(model=\"command-r-plus\")\n",
    "#print(model.invoke(messages))\n",
    "\n",
    "## Code for Groq\n",
    "model = ChatGroq(model=\"llama3-8b-8192\")\n",
    "#print(model.invoke(messages))"
   ]
  },
  {
   "cell_type": "code",
   "execution_count": null,
   "metadata": {},
   "outputs": [
    {
     "name": "stdout",
     "output_type": "stream",
     "text": [
      "Here's a brief story:\n",
      "\n",
      "Title: Whispers in the Monsoon\n",
      "\n",
      "Priyanka Chopra, a successful journalist, had always been drawn to the romance of the monsoon season in India. As she sat in her small apartment in Mumbai, she couldn't help but feel a sense of longing for the love she once had.\n",
      "\n",
      "Just then, her phone rang. It was an old flame, Rohan, calling to tell her that he was back in the city after years abroad. They had a whirlwind romance before he left, but Priyanka had never forgotten the way he made her feel.\n",
      "\n",
      "As the monsoon clouds gathered outside, Priyanka and Rohan met at a small café in Bandra, surrounded by the sounds of raindrops on the pavement. The air was thick with the scent of wet earth and blooming flowers.\n",
      "\n",
      "As they reminisced about old times, Priyanka felt the sparks reignite between them. They talked about their dreams, their fears, and their past. The rain poured down, washing away the years of separation, and Priyanka felt like she was home.\n",
      "\n",
      "As the night wore on, they strolled hand in hand through the deserted streets, the monsoon rain washing away their doubts and fears. It was as if the city itself was whispering secrets in their ears, urging them to take a chance on love once more.\n",
      "\n",
      "And so, Priyanka and Rohan let go of their doubts and surrendered to the magic of the monsoon, allowing their hearts to beat as one.\n"
     ]
    }
   ],
   "source": [
    "\n",
    "from langchain_core.chat_history import (\n",
    "    BaseChatMessageHistory,\n",
    "    InMemoryChatMessageHistory,\n",
    ")\n",
    "from langchain_core.output_parsers import StrOutputParser\n",
    "from langchain_core.prompts import ChatPromptTemplate \n",
    "\n",
    "parser = StrOutputParser()\n",
    "l1=[\"akshay Kumar\",\"Priyaka chopara\",\"Dipika Padukone\",\"Allu Arjun\",\"Sai pallavi\",\"Mahesh babu\"]\n",
    "l2=[\"Dramatic\",\"Horror\",\"Romantic\",\"silent\",\"Comedy\"]\n",
    "l3=[\"New York\",\"Bali\",\"Us\",\"Dubai\",\"karnataka\"]\n",
    "actor= actor_picker(l1) \n",
    "theme=Theme_picker(l2)\n",
    "location=location_picker(l3)\n",
    "writer=[actor,theme,location]\n",
    "\n",
    "system_template = \"create a story by using following actor, theme and location. Please provide a {responseType} response.\" \n",
    "\n",
    "\n",
    "prompt_template = ChatPromptTemplate.from_messages(\n",
    "    [\n",
    "        (\"system\", system_template),\n",
    "        (\"user\", writer)\n",
    "    ]\n",
    ")\n",
    "\n",
    "\n",
    "\n",
    "model = ChatGroq(model=\"llama3-8b-8192\")\n",
    "chain = prompt_template | model | parser\n",
    "s=chain.invoke({\"responseType\":\"brief\"})\n",
    "print(s)\n",
    "\n"
   ]
  },
  {
   "cell_type": "code",
   "execution_count": 10,
   "metadata": {},
   "outputs": [
    {
     "name": "stdout",
     "output_type": "stream",
     "text": [
      "What a beautiful story! I can almost smell the wet earth and blooming flowers as I read about Priyanka and Rohan's reunion. The setting of the monsoon season in Mumbai adds a romantic and dreamy quality to the story, and the way you describe the atmosphere is just lovely.\n",
      "\n",
      "I think what makes this story especially effective is the way you use the setting and the characters' emotions to convey the theme of second chances and the power of love. The monsoon rain is almost a character in itself, washing away the years of separation and doubts, and urging Priyanka and Rohan to take a chance on each other again.\n",
      "\n",
      "I also appreciate the way you've written Priyanka as a strong and independent character, but also one who is vulnerable and open to the possibility of love again. Her longing for the romance of the monsoon season and her nostalgia for her past with Rohan are relatable and endearing.\n",
      "\n",
      "The writing is also very evocative and sensory, with vivid descriptions of the sights, sounds, and smells of the monsoon season. I felt like I was right there with Priyanka and Rohan, walking through the deserted streets and feeling the rain on their skin.\n",
      "\n",
      "Overall, this is a lovely and romantic story that explores the complexities of love and relationships in a beautiful and atmospheric way. Well done!\n"
     ]
    }
   ],
   "source": [
    "from langchain_core.runnables import RunnableSequence\n",
    "chain = RunnableSequence(model, parser)\n",
    "h=chain.invoke([HumanMessage(content=s)])\n",
    "print(h)"
   ]
  },
  {
   "cell_type": "code",
   "execution_count": null,
   "metadata": {},
   "outputs": [
    {
     "name": "stdout",
     "output_type": "stream",
     "text": [
      "What a lovely story! You've woven a romantic tale that captures the essence of the monsoon season in India, where the rain and the city's atmosphere seem to conspire to bring two old flames back together. Here are some things that stood out to me:\n",
      "\n",
      "1. **Atmosphere and setting**: You've done a great job of transporting the reader to the midst of a Mumbai monsoon. The description of the rain, the sounds, and the scents of the wet earth and blooming flowers is vivid and immersive.\n",
      "2. **Character development**: Priyanka and Rohan are well-defined characters, and their backstory is sketched out nicely. We get a sense of their history together and the longing they've both felt since they parted ways.\n",
      "3. **Romantic tension**: The rekindling of their romance is expertly paced, with a slow build-up of tension and intimacy. The way they stroll hand in hand through the deserted streets, with the monsoon rain washing away their doubts, is particularly sweet.\n",
      "4. **Symbolism**: The monsoon is more than just a backdrop for the story; it's a symbol of renewal, forgiveness, and the power of love. The way the rain washes away the years of separation is a beautiful metaphor for the couple's second chance at love.\n",
      "5. **Language and style**: Your writing is descriptive and engaging, with a lyrical quality that suits the romantic tone of the story. The use of sensory details and poetic language helps to create a dreamy, fantastical atmosphere.\n",
      "\n",
      "If I were to offer any suggestions, it would be to consider adding more depth to the supporting characters and the setting. While we get a sense of Priyanka's apartment and the café, the city itself feels somewhat one-dimensional. Adding more details about the people, culture, and history of Mumbai could enrich the story and make it feel more fully realized.\n",
      "\n",
      "Overall, though, \"Whispers in the Monsoon\" is a delightful and romantic tale that will likely leave readers feeling uplifted and hopeful.\n",
      "Here's the modified story:\n",
      "\n",
      "Title: Whispers in the Monsoon\n",
      "\n",
      "Priyanka Chopra, a successful journalist, had always been drawn to the romance of the monsoon season in India. As she sat in her small apartment in Mumbai, she couldn't help but feel a sense of longing for the love she once had. Her best friend, Simran, a free-spirited artist, sat beside her, sipping a cup of steaming chai.\n",
      "\n",
      "Just then, Priyanka's phone rang. It was an old flame, Rohan, calling to tell her that he was back in the city after years abroad. They had a whirlwind romance before he left, but Priyanka had never forgotten the way he made her feel.\n",
      "\n",
      "Simran, sensing the excitement, leaned in and whispered, \"Spill the tea, Priya! What's going on?\" Priyanka filled her in on the phone call, and Simran's eyes sparkled with curiosity.\n",
      "\n",
      "As the monsoon clouds gathered outside, Priyanka and Rohan met at a small café in Bandra, surrounded by the sounds of raindrops on the pavement. Simran tagged along, camera in hand, determined to capture the romance of the moment.\n",
      "\n",
      "The air was thick with the scent of wet earth and blooming flowers. As they reminisced about old times, Priyanka felt the sparks reignite between her and Rohan. They talked about their dreams, their fears, and their past. Simran snapped photos, capturing the tender moments between the couple.\n",
      "\n",
      "As the night wore on, they strolled hand in hand through the deserted streets, the monsoon rain washing away their doubts and fears. Simran trailed behind, capturing the magic of the moment on film.\n",
      "\n",
      "It was as if the city itself was whispering secrets in their ears, urging them to take a chance on love once more. Rohan and Priyanka felt the connection between them grow stronger, and Simran felt happy to be a part of their special moment.\n",
      "\n",
      "As the rain poured down, Priyanka and Rohan let go of their doubts and surrendered to the magic of the monsoon, allowing their hearts to beat as one. Simran wrapped her arms around her friends, feeling grateful to be a part of their love story.\n",
      "\n",
      "\"I'm so happy for you, Priya,\" Simran whispered, as they hugged under the monsoon sky. \"And I'm grateful to be a part of this love story, too.\"\n",
      "\n",
      "The three friends stood there, bathed in the soft glow of the streetlights, as the monsoon rain continued to wash away their worries and doubts.\n"
     ]
    }
   ],
   "source": [
    "\n",
    "\n",
    "from langchain_core.runnables.history import RunnableWithMessageHistory\n",
    "store = {}\n",
    "\n",
    "def get_session_history(session_id: str) -> BaseChatMessageHistory:\n",
    "    if session_id not in store:  \n",
    "        store[session_id] = InMemoryChatMessageHistory()\n",
    "    return store[session_id]\n",
    "config = {'configurable': {\"session_id\": \"xyz\"}}\n",
    "withHistory = RunnableWithMessageHistory(model, get_session_history)\n",
    "\n",
    "response = withHistory.invoke([HumanMessage(content=s)], config=config)\n",
    "\n",
    "print(response.content) \n",
    "\n",
    "response = withHistory.invoke(\n",
    "    [HumanMessage(content=\"modify previous story and add simran as a heroine?\")], config=config\n",
    ")\n",
    "\n",
    "print(response.content)"
   ]
  }
 ],
 "metadata": {
  "kernelspec": {
   "display_name": "Python 3",
   "language": "python",
   "name": "python3"
  },
  "language_info": {
   "codemirror_mode": {
    "name": "ipython",
    "version": 3
   },
   "file_extension": ".py",
   "mimetype": "text/x-python",
   "name": "python",
   "nbconvert_exporter": "python",
   "pygments_lexer": "ipython3",
   "version": "3.12.1"
  }
 },
 "nbformat": 4,
 "nbformat_minor": 2
}
